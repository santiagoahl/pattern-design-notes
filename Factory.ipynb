{
  "nbformat": 4,
  "nbformat_minor": 0,
  "metadata": {
    "colab": {
      "provenance": [],
      "authorship_tag": "ABX9TyO1VFUWhUvXCzm6YsU3nIi+",
      "include_colab_link": true
    },
    "kernelspec": {
      "name": "python3",
      "display_name": "Python 3"
    },
    "language_info": {
      "name": "python"
    }
  },
  "cells": [
    {
      "cell_type": "markdown",
      "metadata": {
        "id": "view-in-github",
        "colab_type": "text"
      },
      "source": [
        "<a href=\"https://colab.research.google.com/github/santiagoahl/pattern-design-notes/blob/main/Factory.ipynb\" target=\"_parent\"><img src=\"https://colab.research.google.com/assets/colab-badge.svg\" alt=\"Open In Colab\"/></a>"
      ]
    },
    {
      "cell_type": "markdown",
      "source": [
        "# Factory Work"
      ],
      "metadata": {
        "id": "QlrL_whykkv3"
      }
    },
    {
      "cell_type": "code",
      "execution_count": null,
      "metadata": {
        "id": "7qa67oks3YMA"
      },
      "outputs": [],
      "source": [
        "from abc import ABC"
      ]
    },
    {
      "cell_type": "code",
      "source": [
        "# Products Component\n",
        "\n",
        "class AbstractApp(ABC):\n",
        "  pass\n",
        "\n",
        "\n",
        "class WhatsappApp(AbstractApp):\n",
        "  pass\n",
        "\n",
        "\n",
        "class SMSApp(AbstractApp):\n",
        "  pass\n",
        "\n",
        "\n",
        "class PushApp(AbstractApp):\n",
        "  pass"
      ],
      "metadata": {
        "id": "MJuSpaCugoCG"
      },
      "execution_count": null,
      "outputs": []
    },
    {
      "cell_type": "code",
      "source": [
        "class AbstractMessage(ABC):\n",
        "  pass\n",
        "\n",
        "\n",
        "class WhatsappMessage(AbstractApp):\n",
        "  def send_message(message: str):\n",
        "    print(\"This is a Whatsapp Message\")\n",
        "\n",
        "\n",
        "class SMSMessage(AbstractApp):\n",
        "  def send_message(message: str):\n",
        "    print(\"This is a SMS Message\")\n",
        "\n",
        "\n",
        "class PushMessage(AbstractApp):\n",
        "  def send_message(message: str):\n",
        "    print(\"This is a Push Message\")"
      ],
      "metadata": {
        "id": "C719jn2YhBwE"
      },
      "execution_count": null,
      "outputs": []
    },
    {
      "cell_type": "code",
      "source": [
        "class AbstractUserProfile(ABC):\n",
        "  def __init__(self):\n",
        "    self.user_photo: str = None\n",
        "    self.user_name: str = None\n",
        "    self.user_email: str = None\n",
        "\n",
        "\n",
        "class WhatsappUserProfile(AbstractUserProfile):\n",
        "  def __init__(self):\n",
        "    super().__init__()\n",
        "    self.user_photo: str = \"whatsapp_template_photo.png\"\n",
        "\n",
        "\n",
        "class SMSUserProfile(AbstractUserProfile):\n",
        "  def __init__(self):\n",
        "    super().__init__()\n",
        "    self.user_photo: str = \"sms_template_photo.png\"\n",
        "\n",
        "\n",
        "class PushUserProfile(AbstractUserProfile):\n",
        "  def __init__(self):\n",
        "    super().__init__()\n",
        "    self.user_photo: str = \"push_template_photo.png\""
      ],
      "metadata": {
        "id": "AJ_xniZUhCRf"
      },
      "execution_count": null,
      "outputs": []
    },
    {
      "cell_type": "code",
      "source": [
        "# Factory Component\n",
        "\n",
        "class NotificationInterface(ABC):\n",
        "  pass\n",
        "\n",
        "class WhatsAppNotificationInterface(NotificationInterface):\n",
        "  pass\n",
        "\n",
        "class PushNotificationInterface(NotificationInterface):\n",
        "  pass\n",
        "\n",
        "class SMSNotificationInterface(NotificationInterface):\n",
        "  pass"
      ],
      "metadata": {
        "id": "OR_pGvregVjz"
      },
      "execution_count": null,
      "outputs": []
    },
    {
      "cell_type": "markdown",
      "source": [
        "# Testing"
      ],
      "metadata": {
        "id": "mtlxFYK_i7Cf"
      }
    },
    {
      "cell_type": "markdown",
      "source": [
        "Question: En que momento factory escoge cada uno de los componentes? I mean, si el cliente dice \"hey! Quiero una notificacion de tipo whatsapp\" como hago para que factory se encargue de ello?"
      ],
      "metadata": {
        "id": "Exf9jk-Ai7uF"
      }
    },
    {
      "cell_type": "code",
      "source": [
        "# Script\n",
        "\n",
        "# Client:\n",
        "client_message = \"I want a SMS Notification\"\n",
        "\n",
        "# Factory\n",
        "class SMSNotificationImplementation(SMSMessage, SMSNotificationInterface):\n",
        "  pass # And so what?\n",
        "  # I need help just here"
      ],
      "metadata": {
        "id": "czU2pe8ZjMZx"
      },
      "execution_count": null,
      "outputs": []
    },
    {
      "cell_type": "markdown",
      "source": [
        "---\n",
        "\n",
        "Sources\n",
        "\n",
        "- [UML](https://lucid.app/lucidspark/93b9b739-6d2c-4cc7-8726-97fff87399e3/edit?view_items=ao8GZScKzwv7&invitationId=inv_e19773f0-f5a7-43b4-a419-0a70f9322ad6)\n",
        "- [Task](https://drive.google.com/file/d/18xbnV3UiPcyM96Of4533zH5tYmrnzqeG/view?usp=sharing)"
      ],
      "metadata": {
        "id": "T7PHdrFQknpg"
      }
    }
  ]
}